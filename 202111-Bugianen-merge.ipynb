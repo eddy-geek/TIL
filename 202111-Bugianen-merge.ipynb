{
 "cells": [
  {
   "cell_type": "markdown",
   "metadata": {},
   "source": [
    "# Merge Bugianen and serve as pmtiles\n",
    "\n",
    "It's all in the title :)\n",
    "Pre-requisite: \n",
    "* Bugianen files downloaded in the working directory below (links in https://tartamillo.wordpress.com/bugianen/)\n",
    "* s3 object store setup done in aws-cli (for the very end)"
   ]
  },
  {
   "cell_type": "code",
   "execution_count": 6,
   "metadata": {},
   "outputs": [
    {
     "name": "stdout",
     "output_type": "stream",
     "text": [
      "/home/eoubrayrie/Downloads/dwnmaps/mapdata/mbtiles/Bugianen\n"
     ]
    }
   ],
   "source": [
    "cd ~/Downloads/dwnmaps/mapdata/mbtiles/Bugianen"
   ]
  },
  {
   "cell_type": "code",
   "execution_count": 96,
   "metadata": {},
   "outputs": [],
   "source": [
    "import sqlite3\n",
    "import shutil\n",
    "import os\n",
    "from decimal import Decimal\n",
    "\n",
    "def get_bounds(db, dbn:str='main') -> 'tuple[Decimal, ...]': # -> w, s, e, n\n",
    "    dbc = db if isinstance(db, sqlite3.Cursor) else sqlite3.connect(db).cursor()\n",
    "    bstr, = dbc.execute(f\"SELECT value FROM {dbn}.metadata WHERE name = 'bounds'\").fetchone()\n",
    "    return parse_bounds(bstr)\n",
    "\n",
    "def parse_bounds(bstr):\n",
    "    return tuple(map(Decimal, bstr.split(','))) \n",
    "\n",
    "def set_bounds(w, s, e, n, dbc, db:str='main'):\n",
    "    return dbc.execute(f\"UPDATE {db}.metadata SET value = '{w},{s},{e},{n}' \"\n",
    "                        \"WHERE name = 'bounds'\").fetchone()\n",
    "\n",
    "def merge_bounds(w1, s1, e1, n1, w2, s2, e2, n2):\n",
    "    return min(w1, w2), min(s1, s2), max(e1, e2), max(n1, n2)\n",
    "\n",
    "def mbt_merge(source, *more_sources:str, dest:str, name='', log=print):\n",
    "    \"\"\" Does a \"real\" merge, relying on [Upsert](https://www.sqlite.org/lang_UPSERT.html),\n",
    "         which was added to SQLite with version 3.  24.0 (2018-06-04).\n",
    "        It relies on an index for the conflict detection,\n",
    "         but at least `gdal` and *Atlas Creator* have none, so:\n",
    "          * we deduplicate, keep *last*\n",
    "          * we create the index as needed\n",
    "        (!) Assumes same image format\n",
    "    \"\"\"\n",
    "    assert dest.endswith('.mbtiles')\n",
    "    if not os.path.exists(dest):\n",
    "        log(f'cp {source} {dest}')\n",
    "        shutil.copyfile(source, dest)\n",
    "        log('<<>>', source[:-8], ':', mbt_info(source))\n",
    "    else:\n",
    "        more_sources = (source, *more_sources)\n",
    "    db = sqlite3.connect(dest)\n",
    "    dbc = db.cursor()\n",
    "    try:\n",
    "        dbc.executescript('''\n",
    "            DELETE FROM tiles WHERE rowid NOT IN\n",
    "                (SELECT MAX(rowid) FROM tiles GROUP BY zoom_level, tile_column, tile_row);\n",
    "            CREATE UNIQUE INDEX IF NOT EXISTS xyz ON tiles (zoom_level, tile_column, tile_row);\n",
    "        ''')\n",
    "        meta = dict(dbc.execute('SELECT * FROM metadata').fetchall())\n",
    "        name = name or dest[:-8]\n",
    "        desc = f\"Merge of the following files:\\n* {meta['name']} : {meta['description']}\\n\"\n",
    "        bounds = parse_bounds(meta['bounds'])\n",
    "\n",
    "        for source in more_sources:\n",
    "            log('<<', source[:-8], ':', mbt_info(source))\n",
    "            # >> Merge tiles\n",
    "            dbc.executescript(f'''\n",
    "                ATTACH \"{source}\" AS source;\n",
    "                INSERT INTO main.tiles\n",
    "                    SELECT * FROM source.tiles WHERE true\n",
    "                    ON CONFLICT (zoom_level, tile_column, tile_row)\n",
    "                    DO UPDATE SET tile_data=excluded.tile_data;\n",
    "            ''')\n",
    "            # >> Merge description and bounds\n",
    "            smeta = dict(dbc.execute('SELECT * FROM source.metadata').fetchall())\n",
    "            desc += f\"* {smeta['name']} : {smeta['description']}\\n\"\n",
    "            sbounds = parse_bounds(smeta['bounds'])\n",
    "            bounds = merge_bounds(*bounds, *sbounds)\n",
    "            set_bounds(*bounds, dbc)\n",
    "            # >> Detach to make room for next source\n",
    "            dbc.execute(f'DETACH source;')\n",
    "            log('>>', dest[:-8], ':', mbt_info(dbc))\n",
    "\n",
    "        print(name, desc)\n",
    "        dbc.execute(f\"UPDATE metadata SET value = '{name}' WHERE name = 'name'\")\n",
    "        dbc.execute(f\"UPDATE metadata SET value = '{desc}' WHERE name = 'description'\")\n",
    "    finally:\n",
    "        dbc.close()\n",
    "        db.commit()\n",
    "        db.close()\n",
    "\n",
    "def mbt_info(mbt_or_cur):\n",
    "    c = mbt_or_cur if isinstance(mbt_or_cur, sqlite3.Cursor)\\\n",
    "        else sqlite3.connect(mbt_or_cur).cursor()\n",
    "    res = c.execute(\"SELECT 'zoom =', MIN(zoom_level), MAX(zoom_level), '; n =', COUNT(*) \"\n",
    "                    \"FROM tiles ;\").fetchall()\\\n",
    "        + c.execute(\"SELECT ';', name, '=', value FROM metadata \"\n",
    "                    \"WHERE name IN ('format', 'bounds');\").fetchall()\n",
    "    return ' '.join(' '.join(map(str, row)) for row in res)\n"
   ]
  },
  {
   "cell_type": "code",
   "execution_count": 64,
   "metadata": {},
   "outputs": [],
   "source": [
    "# check that bounds merge work correctly\n",
    "\n",
    "from unittest import TestCase\n",
    "assertEqual = TestCase().assertEqual\n",
    "\n",
    "b1 = get_bounds('Bugianen 2005 Cuneese.mbtiles')\n",
    "b2 = get_bounds('Bugianen 2005 Cervino.mbtiles')\n",
    "assertEqual(b1, tuple(map(Decimal, ('6.768','44.088','7.646','44.590'))))\n",
    "assertEqual(b2, tuple(map(Decimal, ('7.295','45.706','7.734','46.012'))))\n",
    "assertEqual(merge_bounds(*b1, *b2),\n",
    "            (Decimal('6.768'), Decimal('44.088'), Decimal('7.734'), Decimal('46.012')))"
   ]
  },
  {
   "cell_type": "code",
   "execution_count": 70,
   "metadata": {},
   "outputs": [
    {
     "data": {
      "text/plain": [
       "'zoom = 12 16 ; n = 46376 ; bounds = 6.768,44.088,7.646,44.590 ; format = jpg'"
      ]
     },
     "execution_count": 70,
     "metadata": {},
     "output_type": "execute_result"
    }
   ],
   "source": [
    "# mbt_info('Bugianen.mbtiles')"
   ]
  },
  {
   "cell_type": "code",
   "execution_count": 97,
   "metadata": {},
   "outputs": [
    {
     "name": "stdout",
     "output_type": "stream",
     "text": [
      "cp Bugianen 2005 Cervino.mbtiles Bugianen.mbtiles\n",
      "<<>> Bugianen 2005 Cervino : zoom = 12 16 ; n = 8525 ; bounds = 7.295,45.706,7.734,46.012 ; format = jpg\n",
      "<< Bugianen 2005 Cuneese : zoom = 12 16 ; n = 22847 ; bounds = 6.768,44.088,7.646,44.590 ; format = jpg\n",
      ">> Bugianen : zoom = 12 16 ; n = 31372 ; bounds = 6.768,44.088,7.734,46.012 ; format = jpg\n",
      "<< Bugianen 2005 Germanasca : zoom = 12 16 ; n = 15004 ; bounds = 6.592,44.778,7.471,45.089 ; format = jpg\n",
      ">> Bugianen : zoom = 12 16 ; n = 46376 ; bounds = 6.592,44.088,7.734,46.012 ; format = jpg\n",
      "<< Bugianen 2005 Gran Paradiso : zoom = 12 16 ; n = 19411 ; bounds = 6.943,45.398,7.910,45.768 ; format = jpg\n",
      ">> Bugianen : zoom = 12 16 ; n = 64082 ; bounds = 6.592,44.088,7.910,46.012 ; format = jpg\n",
      "<< Bugianen 2005 Lanzo : zoom = 12 16 ; n = 9207 ; bounds = 7.031,45.213,7.646,45.460 ; format = jpg\n",
      ">> Bugianen : zoom = 12 16 ; n = 70902 ; bounds = 6.592,44.088,7.910,46.012 ; format = jpg\n",
      "<< Bugianen 2005 Monregalese : zoom = 12 16 ; n = 14322 ; bounds = 7.559,44.024,8.174,44.402 ; format = jpg\n",
      ">> Bugianen : zoom = 12 16 ; n = 83860 ; bounds = 6.592,44.024,8.174,46.012 ; format = jpg\n",
      "<< Bugianen 2005 Monte Bianco : zoom = 12 16 ; n = 13981 ; bounds = 6.680,45.583,7.383,45.951 ; format = jpg\n",
      ">> Bugianen : zoom = 12 16 ; n = 94431 ; bounds = 6.592,44.024,8.174,46.012 ; format = jpg\n",
      "<< Bugianen 2005 Monte Rosa : zoom = 12 16 ; n = 22165 ; bounds = 7.646,45.522,8.262,46.134 ; format = jpg\n",
      ">> Bugianen : zoom = 12 16 ; n = 113186 ; bounds = 6.592,44.024,8.262,46.134 ; format = jpg\n",
      "<< Bugianen 2005 Monviso : zoom = 12 16 ; n = 12617 ; bounds = 6.855,44.528,7.559,44.840 ; format = jpg\n",
      ">> Bugianen : zoom = 12 16 ; n = 121029 ; bounds = 6.592,44.024,8.262,46.134 ; format = jpg\n",
      "<< Bugianen 2005 Ossola : zoom = 12 16 ; n = 13299 ; bounds = 7.998,46.073,8.701,46.498 ; format = jpg\n",
      ">> Bugianen : zoom = 12 16 ; n = 133305 ; bounds = 6.592,44.024,8.701,46.498 ; format = jpg\n",
      "<< Bugianen 2005 Susa : zoom = 12 16 ; n = 13981 ; bounds = 6.592,45.027,7.559,45.275 ; format = jpg\n",
      ">> Bugianen : zoom = 12 16 ; n = 141830 ; bounds = 6.592,44.024,8.701,46.498 ; format = jpg\n",
      "<< Bugianen 2005 Verbano : zoom = 12 16 ; n = 15345 ; bounds = 8.174,45.645,8.789,46.134 ; format = jpg\n",
      ">> Bugianen : zoom = 12 16 ; n = 152742 ; bounds = 6.592,44.024,8.789,46.498 ; format = jpg\n",
      "Bugianen Merge of the following files:\n",
      "* Bugianen 2005 Cervino : Bugianen created on 2020-05-12 17:12:52 by MOBAC\n",
      "* Bugianen 2005 Cuneese : Bugianen created on 2020-05-12 17:16:15 by MOBAC\n",
      "* Bugianen 2005 Germanasca : Bugianen created on 2020-05-12 17:15:09 by MOBAC\n",
      "* Bugianen : Bugianen created on 2020-05-12 17:11:46 by MOBAC\n",
      "* Bugianen : Bugianen created on 2020-05-12 17:14:16 by MOBAC\n",
      "* Bugianen 2005 Monregalese : Bugianen created on 2020-05-12 17:16:36 by MOBAC\n",
      "* Bugianen 2005 Monte Bianco : Bugianen created on 2020-05-12 17:13:22 by MOBAC\n",
      "* Bugianen 2005 Monte Rosa : Bugianen created on 2020-05-12 17:12:25 by MOBAC\n",
      "* Bugianen 2005 Monviso : Bugianen created on 2020-05-12 17:15:45 by MOBAC\n",
      "* Bugianen : Bugianen created on 2020-05-12 17:17:14 by MOBAC\n",
      "* Bugianen 2005 Susa : Bugianen created on 2020-05-12 17:14:30 by MOBAC\n",
      "* Bugianen : Bugianen created on 2020-05-12 17:16:56 by MOBAC\n",
      "\n"
     ]
    }
   ],
   "source": [
    "mbt_merge('Bugianen 2005 Cervino.mbtiles',\n",
    "          'Bugianen 2005 Cuneese.mbtiles',\n",
    "          'Bugianen 2005 Germanasca.mbtiles',\n",
    "          'Bugianen 2005 Gran Paradiso.mbtiles',\n",
    "          'Bugianen 2005 Lanzo.mbtiles',\n",
    "          'Bugianen 2005 Monregalese.mbtiles',\n",
    "          'Bugianen 2005 Monte Bianco.mbtiles',\n",
    "          'Bugianen 2005 Monte Rosa.mbtiles',\n",
    "          'Bugianen 2005 Monviso.mbtiles',\n",
    "          'Bugianen 2005 Ossola.mbtiles',\n",
    "          'Bugianen 2005 Susa.mbtiles',\n",
    "          'Bugianen 2005 Verbano.mbtiles',\n",
    "          dest='Bugianen.mbtiles')"
   ]
  },
  {
   "cell_type": "code",
   "execution_count": 81,
   "metadata": {},
   "outputs": [],
   "source": [
    "!command -v pmtiles-convert &> /dev/null || pip install pmtiles"
   ]
  },
  {
   "cell_type": "code",
   "execution_count": 98,
   "metadata": {},
   "outputs": [
    {
     "name": "stdout",
     "output_type": "stream",
     "text": [
      "Num tiles: 152742\n",
      "Num unique tiles: 151947\n",
      "Num leaves: 3\n"
     ]
    }
   ],
   "source": [
    "!pmtiles-convert Bugianen.{mb,pm}tiles"
   ]
  },
  {
   "cell_type": "code",
   "execution_count": 82,
   "metadata": {},
   "outputs": [],
   "source": [
    "# configure your s3\n",
    "# pip install awscli-plugin-endpoint\n",
    "# aws configure set plugins.endpoint awscli_plugin_endpoint\n",
    "# aws configure"
   ]
  },
  {
   "cell_type": "code",
   "execution_count": 100,
   "metadata": {},
   "outputs": [],
   "source": [
    "!aws s3 cp --acl public-read ./Bugianen.mbtiles s3://maki/"
   ]
  },
  {
   "cell_type": "code",
   "execution_count": 99,
   "metadata": {},
   "outputs": [
    {
     "name": "stdout",
     "output_type": "stream",
     "text": [
      "upload: ./Bugianen.pmtiles to s3://maki/Bugianen.pmtiles          \n"
     ]
    }
   ],
   "source": [
    "!aws s3 cp --acl public-read ./Bugianen.pmtiles s3://maki/"
   ]
  },
  {
   "cell_type": "code",
   "execution_count": null,
   "metadata": {},
   "outputs": [],
   "source": []
  }
 ],
 "metadata": {
  "interpreter": {
   "hash": "8a94588eda9d64d9e9a351ab8144e55b1fabf5113b54e67dd26a8c27df0381b3"
  },
  "kernelspec": {
   "display_name": "Python 3.10.0 64-bit",
   "language": "python",
   "name": "python3"
  },
  "language_info": {
   "codemirror_mode": {
    "name": "ipython",
    "version": 3
   },
   "file_extension": ".py",
   "mimetype": "text/x-python",
   "name": "python",
   "nbconvert_exporter": "python",
   "pygments_lexer": "ipython3",
   "version": "3.9.1"
  },
  "orig_nbformat": 4
 },
 "nbformat": 4,
 "nbformat_minor": 2
}
